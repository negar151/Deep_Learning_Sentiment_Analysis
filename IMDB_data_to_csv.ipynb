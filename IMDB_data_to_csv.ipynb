{
 "cells": [
  {
   "cell_type": "markdown",
   "metadata": {},
   "source": [
    "# Turn the Stanford dataset into a .csv\n",
    "Running all the cells in this notebook will create 3 csv files based on the data from the aclImdb dataset. The three files are train.csv which will contain 35,000 labeled movie reviews, val.csv which will contain 7,500 labeled reviews and finally test.csv which will also contain 7,500 labeled review."
   ]
  },
  {
   "cell_type": "code",
   "execution_count": 21,
   "metadata": {},
   "outputs": [],
   "source": [
    "import csv\n",
    "import os\n",
    "\n",
    "from tqdm import tqdm"
   ]
  },
  {
   "cell_type": "markdown",
   "metadata": {},
   "source": [
    "### Below we transform all of the .txt files into a csv for easier loading later"
   ]
  },
  {
   "cell_type": "code",
   "execution_count": 22,
   "metadata": {},
   "outputs": [
    {
     "name": "stderr",
     "output_type": "stream",
     "text": [
      "1it [00:00,  3.10it/s]\n"
     ]
    }
   ],
   "source": [
    "sentiment = 1\n",
    "review_folder = './data/aclImdb/train/pos'\n",
    "target_csv = 'train.csv'\n",
    "\n",
    "with open(target_csv, 'w') as csv_file:\n",
    "    writer = csv.writer(csv_file, delimiter=',')\n",
    "    for root, dirs, files in tqdm(os.walk(review_folder)):\n",
    "        for file in files:\n",
    "            f = open(os.path.join(root, file), 'r')\n",
    "            writer.writerow((f.read(), sentiment))\n",
    "            f.close()"
   ]
  },
  {
   "cell_type": "code",
   "execution_count": 23,
   "metadata": {},
   "outputs": [
    {
     "name": "stderr",
     "output_type": "stream",
     "text": [
      "1it [00:00,  3.13it/s]\n"
     ]
    }
   ],
   "source": [
    "sentiment = 0\n",
    "review_folder = './data/aclImdb/train/neg'\n",
    "target_csv = 'train.csv'\n",
    "\n",
    "with open(target_csv, 'a') as csv_file:\n",
    "    writer = csv.writer(csv_file, delimiter=',')\n",
    "    for root, dirs, files in tqdm(os.walk(review_folder)):\n",
    "        for file in files:\n",
    "            f = open(os.path.join(root, file), 'r')\n",
    "            writer.writerow((f.read(), sentiment))\n",
    "            f.close()"
   ]
  },
  {
   "cell_type": "code",
   "execution_count": 24,
   "metadata": {},
   "outputs": [
    {
     "name": "stderr",
     "output_type": "stream",
     "text": [
      "1it [00:00,  3.12it/s]\n"
     ]
    }
   ],
   "source": [
    "sentiment = 0\n",
    "review_folder = './data/aclImdb/test/neg'\n",
    "\n",
    "with open('test.csv', 'w') as test_csv:\n",
    "    with open('val.csv', 'w') as val_csv:\n",
    "        with open('train.csv', 'a') as train_csv:\n",
    "            test_writer = csv.writer(test_csv, delimiter=',')\n",
    "            val_writer = csv.writer(val_csv, delimiter=',')\n",
    "            train_writer = csv.writer(train_csv, delimiter=',')\n",
    "            \n",
    "            for root, dirs, files in tqdm(os.walk(review_folder)):\n",
    "                for i, file in enumerate(files):\n",
    "                    f = open(os.path.join(root, file), 'r')\n",
    "                    if i < 5000:\n",
    "                        train_writer.writerow((f.read(), sentiment))\n",
    "                    elif 5000 <= i < 8750:\n",
    "                        val_writer.writerow((f.read(), sentiment))\n",
    "                    else:\n",
    "                        test_writer.writerow((f.read(), sentiment))\n",
    "                    f.close()"
   ]
  },
  {
   "cell_type": "code",
   "execution_count": 25,
   "metadata": {},
   "outputs": [
    {
     "name": "stderr",
     "output_type": "stream",
     "text": [
      "1it [00:00,  3.13it/s]\n"
     ]
    }
   ],
   "source": [
    "sentiment = 1\n",
    "review_folder = './data/aclImdb/test/pos'\n",
    "\n",
    "with open('test.csv', 'a') as test_csv:\n",
    "    with open('val.csv', 'a') as val_csv:\n",
    "        with open('train.csv', 'a') as train_csv:\n",
    "            test_writer = csv.writer(test_csv, delimiter=',')\n",
    "            val_writer = csv.writer(val_csv, delimiter=',')\n",
    "            train_writer = csv.writer(train_csv, delimiter=',')\n",
    "            \n",
    "            for root, dirs, files in tqdm(os.walk(review_folder)):\n",
    "                for i, file in enumerate(files):\n",
    "                    f = open(os.path.join(root, file), 'r')\n",
    "                    if i < 5000:\n",
    "                        train_writer.writerow((f.read(), sentiment))\n",
    "                    elif 5000 <= i < 8750:\n",
    "                        val_writer.writerow((f.read(), sentiment))\n",
    "                    else:\n",
    "                        test_writer.writerow((f.read(), sentiment))\n",
    "                    f.close()"
   ]
  },
  {
   "cell_type": "code",
   "execution_count": null,
   "metadata": {},
   "outputs": [],
   "source": []
  }
 ],
 "metadata": {
  "kernelspec": {
   "display_name": "Python 3",
   "language": "python",
   "name": "python3"
  },
  "language_info": {
   "codemirror_mode": {
    "name": "ipython",
    "version": 3
   },
   "file_extension": ".py",
   "mimetype": "text/x-python",
   "name": "python",
   "nbconvert_exporter": "python",
   "pygments_lexer": "ipython3",
   "version": "3.7.5"
  }
 },
 "nbformat": 4,
 "nbformat_minor": 2
}
