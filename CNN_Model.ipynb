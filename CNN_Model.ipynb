{
 "cells": [
  {
   "cell_type": "markdown",
   "metadata": {},
   "source": [
    "# CNN Sentiement Analysis Model\n",
    "Look to here to find source of implementation: https://arxiv.org/pdf/1408.5882.pdf"
   ]
  },
  {
   "cell_type": "code",
   "execution_count": 1,
   "metadata": {},
   "outputs": [],
   "source": [
    "import torch\n",
    "from gensim.models import KeyedVectors\n",
    "from torch import nn\n",
    "from torch import functional as F"
   ]
  },
  {
   "cell_type": "code",
   "execution_count": 2,
   "metadata": {},
   "outputs": [],
   "source": [
    "embedding_file_path = 'data/pretrained_word_embedding/GoogleNews-vectors-negative300.bin'\n",
    "word2vec = KeyedVectors.\\\n",
    "            load_word2vec_format(embedding_file_path, binary=True)"
   ]
  },
  {
   "cell_type": "code",
   "execution_count": 3,
   "metadata": {},
   "outputs": [],
   "source": [
    "word_to_int = {}\n",
    "int_to_word = {}\n",
    "for i, x in enumerate(word2vec.vocab):\n",
    "    word_to_int[x] = i\n",
    "    int_to_word[i] = x"
   ]
  },
  {
   "cell_type": "code",
   "execution_count": 4,
   "metadata": {},
   "outputs": [],
   "source": [
    "class SentimentAnalysisCNN(nn.Module):\n",
    "    \n",
    "    def __init__(self):\n",
    "        super(SentimentAnalysisCNN, self).__init__()\n",
    "        \n",
    "        ### Hyperparameters ###\n",
    "        self.filter_sizes = [2, 3, 5]\n",
    "        self.num_filters = 32\n",
    "        #######################\n",
    "        \n",
    "        # Embed the input\n",
    "        self.embedding = nn.Embedding.from_pretrained(torch.FloatTensor(word2vec.vectors))\n",
    "        \n",
    "        # Time to convoulte!\n",
    "        self.convs = nn.ModuleList([nn.Conv2d(1, \n",
    "                                              self.num_filters, \n",
    "                                              kernel_size=(h, 300))\n",
    "                                    for h in self.filter_sizes])\n",
    "        \n",
    "        # Feed forward\n",
    "        fc_input = self.num_filters * len(self.filter_sizes)\n",
    "        self.fc_layers = nn.Sequential(\n",
    "                                        nn.Linear(fc_input, 512),\n",
    "                                        nn.ReLU(),\n",
    "                                        nn.Dropout(0.3),\n",
    "                                        nn.Linear(512, 512),\n",
    "                                        nn.ReLU(),\n",
    "                                        nn.Dropout(0.3),\n",
    "                                        nn.Linear(512, 1),\n",
    "                                        nn.Sigmoid()\n",
    "                                       )\n",
    "    \n",
    "    def forward(self, x):\n",
    "        x = self.embedding(x)\n",
    "        x = x.unsqueeze(1)\n",
    "        conv_outputs = [self.convolute_and_pool(x, c) for c in self.convs]\n",
    "        x = torch.cat(conv_outputs, 1)\n",
    "        x = self.fc_layers(x)\n",
    "        return x\n",
    "    \n",
    "    def convolute_and_pool(self, x, conv):\n",
    "        x = torch.relu(conv(x))\n",
    "        x = x.squeeze(3)\n",
    "        return torch.max_pool1d(x, x.size(2)).squeeze(2)"
   ]
  },
  {
   "cell_type": "code",
   "execution_count": 5,
   "metadata": {},
   "outputs": [
    {
     "data": {
      "text/plain": [
       "tensor([[0.5053],\n",
       "        [0.5072]], grad_fn=<SigmoidBackward>)"
      ]
     },
     "execution_count": 5,
     "metadata": {},
     "output_type": "execute_result"
    }
   ],
   "source": [
    "a = 'Time will break the world'\n",
    "b = 'I was impressed that I'\n",
    "a = torch.tensor([word_to_int[x] for x in a.split(' ')])\n",
    "b = torch.tensor([word_to_int[x] for x in b.split(' ')])\n",
    "features = torch.stack((a, b))\n",
    "\n",
    "model = SentimentAnalysisCNN()\n",
    "model.forward(features)"
   ]
  },
  {
   "cell_type": "code",
   "execution_count": null,
   "metadata": {},
   "outputs": [],
   "source": []
  }
 ],
 "metadata": {
  "kernelspec": {
   "display_name": "Python 3",
   "language": "python",
   "name": "python3"
  },
  "language_info": {
   "codemirror_mode": {
    "name": "ipython",
    "version": 3
   },
   "file_extension": ".py",
   "mimetype": "text/x-python",
   "name": "python",
   "nbconvert_exporter": "python",
   "pygments_lexer": "ipython3",
   "version": "3.7.5"
  }
 },
 "nbformat": 4,
 "nbformat_minor": 2
}
